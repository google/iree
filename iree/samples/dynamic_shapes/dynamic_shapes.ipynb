{
  "nbformat": 4,
  "nbformat_minor": 0,
  "metadata": {
    "colab": {
      "name": "dynamic_shapes.ipynb",
      "provenance": [],
      "collapsed_sections": [
        "FH3IRpYTta2v"
      ]
    },
    "kernelspec": {
      "display_name": "Python 3",
      "name": "python3"
    }
  },
  "cells": [
    {
      "cell_type": "markdown",
      "metadata": {
        "id": "FH3IRpYTta2v"
      },
      "source": [
        "##### Copyright 2021 The IREE Authors"
      ]
    },
    {
      "cell_type": "code",
      "metadata": {
        "id": "mWGa71_Ct2ug",
        "cellView": "form"
      },
      "source": [
        "#@title Licensed under the Apache License v2.0 with LLVM Exceptions.\n",
        "# See https://llvm.org/LICENSE.txt for license information.\n",
        "# SPDX-License-Identifier: Apache-2.0 WITH LLVM-exception"
      ],
      "execution_count": 1,
      "outputs": []
    },
    {
      "cell_type": "markdown",
      "metadata": {
        "id": "h5s6ncerSpc5"
      },
      "source": [
        "# Dynamic Shapes\n",
        "\n",
        "This notebook\n",
        "\n",
        "1. Creates a TensorFlow program with dynamic shapes\n",
        "2. Imports that program into IREE's compiler\n",
        "3. Compiles the imported program to an IREE VM bytecode module\n",
        "4. Tests running the compiled VM module using IREE's runtime\n",
        "5. Downloads compilation artifacts for use with the native (C API) sample application"
      ]
    },
    {
      "cell_type": "code",
      "metadata": {
        "id": "s2bScbYkP6VZ",
        "colab": {
          "base_uri": "https://localhost:8080/"
        },
        "outputId": "fea0500f-d1d4-4064-feb1-5a80764d69cc"
      },
      "source": [
        "#@title General setup\n",
        "\n",
        "import os\n",
        "import tempfile\n",
        "\n",
        "ARTIFACTS_DIR = os.path.join(tempfile.gettempdir(), \"iree\", \"colab_artifacts\")\n",
        "os.makedirs(ARTIFACTS_DIR, exist_ok=True)\n",
        "print(f\"Using artifacts directory '{ARTIFACTS_DIR}'\")"
      ],
      "execution_count": 2,
      "outputs": [
        {
          "output_type": "stream",
          "text": [
            "Using artifacts directory '/tmp/iree/colab_artifacts'\n"
          ],
          "name": "stdout"
        }
      ]
    },
    {
      "cell_type": "markdown",
      "metadata": {
        "id": "dBHgjTjGPOJ7"
      },
      "source": [
        "## Create a program using TensorFlow and import it into IREE"
      ]
    },
    {
      "cell_type": "code",
      "metadata": {
        "id": "hwApbPstraWZ"
      },
      "source": [
        "#@title Define a sample TensorFlow module using dynamic shapes\n",
        "\n",
        "import tensorflow as tf\n",
        "\n",
        "class DynamicShapesModule(tf.Module):\n",
        "  # reduce_sum (dynamic input size, static output size)\n",
        "  #   e.g. [1, 2, 3] -> 6\n",
        "  @tf.function(input_signature=[tf.TensorSpec([None], tf.int32)])\n",
        "  def reduce_sum(self, values):\n",
        "    return tf.math.reduce_sum(values)\n",
        "\n",
        "  # iota (static input size, dynamic output size)\n",
        "  #   e.g. 3 -> [0, 1, 2]\n",
        "  @tf.function(input_signature=[tf.TensorSpec([], tf.int32)])\n",
        "  def iota(self, limit):\n",
        "    return tf.range(0, limit, 1)\n",
        "\n",
        "  # add_one (dynamic input size, dynamic output size)\n",
        "  #   e.g. [1, 2, 3] -> [2, 3, 4]\n",
        "  @tf.function(input_signature=[tf.TensorSpec([None], tf.int32)])\n",
        "  def add_one(self, values):\n",
        "    return tf.math.add(values, tf.constant(1, dtype=tf.int32))"
      ],
      "execution_count": 3,
      "outputs": []
    },
    {
      "cell_type": "code",
      "metadata": {
        "id": "k4aMPI2C7btB"
      },
      "source": [
        "%%capture\n",
        "!python -m pip install iree-compiler-snapshot iree-tools-tf-snapshot -f https://github.com/google/iree/releases"
      ],
      "execution_count": 4,
      "outputs": []
    },
    {
      "cell_type": "code",
      "metadata": {
        "colab": {
          "base_uri": "https://localhost:8080/"
        },
        "id": "3nSXZiZ_X8-P",
        "outputId": "f0dc9f0f-9c33-400e-c87b-a03e1df436f5"
      },
      "source": [
        "#@title Import the TensorFlow program into IREE as MLIR\n",
        "\n",
        "from IPython.display import clear_output\n",
        "\n",
        "from iree.compiler import tf as tfc\n",
        "\n",
        "compiler_module = tfc.compile_module(DynamicShapesModule(), import_only=True)\n",
        "clear_output()  # Skip over TensorFlow's output.\n",
        "\n",
        "# Print the imported MLIR to see how the compiler views this TensorFlow program.\n",
        "print(\"Dynamic Shapes MLIR:\\n```\\n%s```\\n\" % compiler_module.decode(\"utf-8\"))\n",
        "\n",
        "# Save the imported MLIR to disk.\n",
        "imported_mlir_path = os.path.join(ARTIFACTS_DIR, \"dynamic_shapes.mlir\")\n",
        "with open(imported_mlir_path, \"wt\") as output_file:\n",
        "  output_file.write(compiler_module.decode(\"utf-8\"))\n",
        "print(f\"Wrote MLIR to path '{imported_mlir_path}'\")"
      ],
      "execution_count": 5,
      "outputs": [
        {
          "output_type": "stream",
          "text": [
            "Dynamic Shapes MLIR:\n",
            "```\n",
            "#loc0 = loc(unknown)\n",
            "#loc6 = loc(callsite(\"Sum@__inference_reduce_sum_22\"(\"/usr/local/lib/python3.7/dist-packages/tensorflow/python/ops/math_ops.py\":2119:0) at callsite(\"/usr/local/lib/python3.7/dist-packages/tensorflow/python/util/dispatch.py\":206:0 at callsite(\"<ipython-input-3-8994eb87ace0>\":10:0 at callsite(\"/usr/local/lib/python3.7/dist-packages/tensorflow/python/framework/func_graph.py\":982:0 at callsite(\"/usr/local/lib/python3.7/dist-packages/tensorflow/python/eager/function.py\":3971:0 at callsite(\"/usr/local/lib/python3.7/dist-packages/tensorflow/python/eager/def_function.py\":672:0 at callsite(\"/usr/local/lib/python3.7/dist-packages/tensorflow/python/framework/func_graph.py\":999:0 at callsite(\"/usr/local/lib/python3.7/dist-packages/tensorflow/python/eager/function.py\":3289:0 at callsite(\"/usr/local/lib/python3.7/dist-packages/tensorflow/python/eager/function.py\":3444:0 at \"/usr/local/lib/python3.7/dist-packages/tensorflow/python/eager/function.py\":3050:0))))))))))\n",
            "#map0 = affine_map<(d0) -> ()>\n",
            "#map1 = affine_map<(d0) -> (d0)>\n",
            "#map2 = affine_map<() -> ()>\n",
            "module  {\n",
            "  func @add_one(%arg0: tensor<?xi32> {tf._user_specified_name = \"values\"} loc(unknown)) -> tensor<?xi32> attributes {iree.module.export, iree.reflection = {abi = \"sip\", abiv = 1 : i32, sip = \"I8!S5!k0_0R3!_0\"}, tf._construction_context = \"kEagerRuntime\", tf._input_shapes = [#tf.shape<?>]} {\n",
            "    %cst = constant dense<1> : tensor<i32> loc(#loc1)\n",
            "    %c0 = constant 0 : index loc(#loc2)\n",
            "    %0 = memref.dim %arg0, %c0 : tensor<?xi32> loc(#loc2)\n",
            "    %1 = linalg.init_tensor [%0] : tensor<?xi32> loc(#loc2)\n",
            "    %2 = linalg.generic {indexing_maps = [#map0, #map1], iterator_types = [\"parallel\"]} ins(%cst : tensor<i32>) outs(%1 : tensor<?xi32>) {\n",
            "    ^bb0(%arg1: i32 loc(unknown), %arg2: i32 loc(unknown)):  // no predecessors\n",
            "      linalg.yield %arg1 : i32 loc(#loc2)\n",
            "    } -> tensor<?xi32> loc(#loc2)\n",
            "    %3 = memref.dim %arg0, %c0 : tensor<?xi32> loc(#loc2)\n",
            "    %4 = linalg.init_tensor [%3] : tensor<?xi32> loc(#loc2)\n",
            "    %5 = linalg.generic {indexing_maps = [#map1, #map1, #map1], iterator_types = [\"parallel\"]} ins(%arg0, %2 : tensor<?xi32>, tensor<?xi32>) outs(%4 : tensor<?xi32>) {\n",
            "    ^bb0(%arg1: i32 loc(unknown), %arg2: i32 loc(unknown), %arg3: i32 loc(unknown)):  // no predecessors\n",
            "      %6 = addi %arg1, %arg2 : i32 loc(#loc2)\n",
            "      linalg.yield %6 : i32 loc(#loc2)\n",
            "    } -> tensor<?xi32> loc(#loc2)\n",
            "    return %5 : tensor<?xi32> loc(#loc0)\n",
            "  } loc(#loc0)\n",
            "  func @iota(%arg0: tensor<i32> {tf._user_specified_name = \"limit\"} loc(unknown)) -> tensor<?xi32> attributes {iree.module.export, iree.reflection = {abi = \"sip\", abiv = 1 : i32, sip = \"I8!S5!k0_0R3!_0\"}, tf._construction_context = \"kEagerRuntime\", tf._input_shapes = [#tf.shape<>]} {\n",
            "    %cst = constant dense<0> : tensor<i32> loc(#loc3)\n",
            "    %cst_0 = constant dense<1> : tensor<i32> loc(#loc4)\n",
            "    %cst_1 = constant dense<1.000000e+00> : tensor<f32> loc(#loc5)\n",
            "    %c0_i32 = constant 0 : i32 loc(#loc5)\n",
            "    %c0 = constant 0 : index loc(#loc5)\n",
            "    %0 = linalg.init_tensor [] : tensor<i32> loc(#loc5)\n",
            "    %1 = linalg.generic {indexing_maps = [#map2, #map2, #map2], iterator_types = []} ins(%arg0, %cst : tensor<i32>, tensor<i32>) outs(%0 : tensor<i32>) {\n",
            "    ^bb0(%arg1: i32 loc(unknown), %arg2: i32 loc(unknown), %arg3: i32 loc(unknown)):  // no predecessors\n",
            "      %25 = subi %arg1, %arg2 : i32 loc(#loc5)\n",
            "      linalg.yield %25 : i32 loc(#loc5)\n",
            "    } -> tensor<i32> loc(#loc5)\n",
            "    %2 = linalg.init_tensor [] : tensor<i32> loc(#loc5)\n",
            "    %3 = linalg.generic {indexing_maps = [#map2, #map2], iterator_types = []} ins(%1 : tensor<i32>) outs(%2 : tensor<i32>) {\n",
            "    ^bb0(%arg1: i32 loc(unknown), %arg2: i32 loc(unknown)):  // no predecessors\n",
            "      %25 = cmpi sge, %arg1, %c0_i32 : i32 loc(#loc5)\n",
            "      %26 = subi %c0_i32, %arg1 : i32 loc(#loc5)\n",
            "      %27 = select %25, %arg1, %26 : i32 loc(#loc5)\n",
            "      linalg.yield %27 : i32 loc(#loc5)\n",
            "    } -> tensor<i32> loc(#loc5)\n",
            "    %4 = linalg.init_tensor [] : tensor<f32> loc(#loc5)\n",
            "    %5 = linalg.generic {indexing_maps = [#map2, #map2], iterator_types = []} ins(%3 : tensor<i32>) outs(%4 : tensor<f32>) {\n",
            "    ^bb0(%arg1: i32 loc(unknown), %arg2: f32 loc(unknown)):  // no predecessors\n",
            "      %25 = sitofp %arg1 : i32 to f32 loc(#loc5)\n",
            "      linalg.yield %25 : f32 loc(#loc5)\n",
            "    } -> tensor<f32> loc(#loc5)\n",
            "    %6 = linalg.init_tensor [] : tensor<f32> loc(#loc5)\n",
            "    %7 = linalg.generic {indexing_maps = [#map2, #map2, #map2], iterator_types = []} ins(%5, %cst_1 : tensor<f32>, tensor<f32>) outs(%6 : tensor<f32>) {\n",
            "    ^bb0(%arg1: f32 loc(unknown), %arg2: f32 loc(unknown), %arg3: f32 loc(unknown)):  // no predecessors\n",
            "      %25 = divf %arg1, %arg2 : f32 loc(#loc5)\n",
            "      linalg.yield %25 : f32 loc(#loc5)\n",
            "    } -> tensor<f32> loc(#loc5)\n",
            "    %8 = linalg.init_tensor [] : tensor<f32> loc(#loc5)\n",
            "    %9 = linalg.generic {indexing_maps = [#map2, #map2], iterator_types = []} ins(%7 : tensor<f32>) outs(%8 : tensor<f32>) {\n",
            "    ^bb0(%arg1: f32 loc(unknown), %arg2: f32 loc(unknown)):  // no predecessors\n",
            "      %25 = ceilf %arg1 : f32 loc(#loc5)\n",
            "      linalg.yield %25 : f32 loc(#loc5)\n",
            "    } -> tensor<f32> loc(#loc5)\n",
            "    %10 = linalg.init_tensor [] : tensor<i32> loc(#loc5)\n",
            "    %11 = linalg.generic {indexing_maps = [#map2, #map2], iterator_types = []} ins(%9 : tensor<f32>) outs(%10 : tensor<i32>) {\n",
            "    ^bb0(%arg1: f32 loc(unknown), %arg2: i32 loc(unknown)):  // no predecessors\n",
            "      %25 = fptosi %arg1 : f32 to i32 loc(#loc5)\n",
            "      linalg.yield %25 : i32 loc(#loc5)\n",
            "    } -> tensor<i32> loc(#loc5)\n",
            "    %12 = linalg.tensor_expand_shape %11 [] : tensor<i32> into tensor<1xi32> loc(#loc5)\n",
            "    %13 = tensor.extract %12[%c0] : tensor<1xi32> loc(#loc5)\n",
            "    %14 = index_cast %13 : i32 to index loc(#loc5)\n",
            "    %15 = linalg.init_tensor [%14] : tensor<?xi32> loc(#loc5)\n",
            "    %16 = linalg.generic {indexing_maps = [#map1], iterator_types = [\"parallel\"]} outs(%15 : tensor<?xi32>) {\n",
            "    ^bb0(%arg1: i32 loc(unknown)):  // no predecessors\n",
            "      %25 = linalg.index 0 : index loc(#loc5)\n",
            "      %26 = index_cast %25 : index to i32 loc(#loc5)\n",
            "      linalg.yield %26 : i32 loc(#loc5)\n",
            "    } -> tensor<?xi32> loc(#loc5)\n",
            "    %17 = linalg.init_tensor [%14] : tensor<?xi32> loc(#loc5)\n",
            "    %18 = linalg.generic {indexing_maps = [#map0, #map1], iterator_types = [\"parallel\"]} ins(%cst_0 : tensor<i32>) outs(%17 : tensor<?xi32>) {\n",
            "    ^bb0(%arg1: i32 loc(unknown), %arg2: i32 loc(unknown)):  // no predecessors\n",
            "      linalg.yield %arg1 : i32 loc(#loc5)\n",
            "    } -> tensor<?xi32> loc(#loc5)\n",
            "    %19 = linalg.init_tensor [%14] : tensor<?xi32> loc(#loc5)\n",
            "    %20 = linalg.generic {indexing_maps = [#map1, #map1, #map1], iterator_types = [\"parallel\"]} ins(%16, %18 : tensor<?xi32>, tensor<?xi32>) outs(%19 : tensor<?xi32>) {\n",
            "    ^bb0(%arg1: i32 loc(unknown), %arg2: i32 loc(unknown), %arg3: i32 loc(unknown)):  // no predecessors\n",
            "      %25 = muli %arg1, %arg2 : i32 loc(#loc5)\n",
            "      linalg.yield %25 : i32 loc(#loc5)\n",
            "    } -> tensor<?xi32> loc(#loc5)\n",
            "    %21 = linalg.init_tensor [%14] : tensor<?xi32> loc(#loc5)\n",
            "    %22 = linalg.generic {indexing_maps = [#map0, #map1], iterator_types = [\"parallel\"]} ins(%cst : tensor<i32>) outs(%21 : tensor<?xi32>) {\n",
            "    ^bb0(%arg1: i32 loc(unknown), %arg2: i32 loc(unknown)):  // no predecessors\n",
            "      linalg.yield %arg1 : i32 loc(#loc5)\n",
            "    } -> tensor<?xi32> loc(#loc5)\n",
            "    %23 = linalg.init_tensor [%14] : tensor<?xi32> loc(#loc5)\n",
            "    %24 = linalg.generic {indexing_maps = [#map1, #map1, #map1], iterator_types = [\"parallel\"]} ins(%20, %22 : tensor<?xi32>, tensor<?xi32>) outs(%23 : tensor<?xi32>) {\n",
            "    ^bb0(%arg1: i32 loc(unknown), %arg2: i32 loc(unknown), %arg3: i32 loc(unknown)):  // no predecessors\n",
            "      %25 = addi %arg1, %arg2 : i32 loc(#loc5)\n",
            "      linalg.yield %25 : i32 loc(#loc5)\n",
            "    } -> tensor<?xi32> loc(#loc5)\n",
            "    return %24 : tensor<?xi32> loc(#loc0)\n",
            "  } loc(#loc0)\n",
            "  func @reduce_sum(%arg0: tensor<?xi32> {tf._user_specified_name = \"values\"} loc(unknown)) -> tensor<i32> attributes {iree.module.export, iree.reflection = {abi = \"sip\", abiv = 1 : i32, sip = \"I8!S5!k0_0R3!_0\"}, tf._construction_context = \"kEagerRuntime\", tf._input_shapes = [#tf.shape<?>]} {\n",
            "    %c0_i32 = constant 0 : i32 loc(#loc6)\n",
            "    %0 = linalg.init_tensor [] : tensor<i32> loc(#loc6)\n",
            "    %1 = linalg.fill(%0, %c0_i32) : tensor<i32>, i32 -> tensor<i32>  loc(#loc6)\n",
            "    %2 = linalg.generic {indexing_maps = [#map1, #map0], iterator_types = [\"reduction\"]} ins(%arg0 : tensor<?xi32>) outs(%1 : tensor<i32>) {\n",
            "    ^bb0(%arg1: i32 loc(callsite(\"Sum@__inference_reduce_sum_22\"(\"/usr/local/lib/python3.7/dist-packages/tensorflow/python/ops/math_ops.py\":2119:0) at callsite(\"/usr/local/lib/python3.7/dist-packages/tensorflow/python/util/dispatch.py\":206:0 at callsite(\"<ipython-input-3-8994eb87ace0>\":10:0 at callsite(\"/usr/local/lib/python3.7/dist-packages/tensorflow/python/framework/func_graph.py\":982:0 at callsite(\"/usr/local/lib/python3.7/dist-packages/tensorflow/python/eager/function.py\":3971:0 at callsite(\"/usr/local/lib/python3.7/dist-packages/tensorflow/python/eager/def_function.py\":672:0 at callsite(\"/usr/local/lib/python3.7/dist-packages/tensorflow/python/framework/func_graph.py\":999:0 at callsite(\"/usr/local/lib/python3.7/dist-packages/tensorflow/python/eager/function.py\":3289:0 at callsite(\"/usr/local/lib/python3.7/dist-packages/tensorflow/python/eager/function.py\":3444:0 at \"/usr/local/lib/python3.7/dist-packages/tensorflow/python/eager/function.py\":3050:0)))))))))), %arg2: i32 loc(callsite(\"Sum@__inference_reduce_sum_22\"(\"/usr/local/lib/python3.7/dist-packages/tensorflow/python/ops/math_ops.py\":2119:0) at callsite(\"/usr/local/lib/python3.7/dist-packages/tensorflow/python/util/dispatch.py\":206:0 at callsite(\"<ipython-input-3-8994eb87ace0>\":10:0 at callsite(\"/usr/local/lib/python3.7/dist-packages/tensorflow/python/framework/func_graph.py\":982:0 at callsite(\"/usr/local/lib/python3.7/dist-packages/tensorflow/python/eager/function.py\":3971:0 at callsite(\"/usr/local/lib/python3.7/dist-packages/tensorflow/python/eager/def_function.py\":672:0 at callsite(\"/usr/local/lib/python3.7/dist-packages/tensorflow/python/framework/func_graph.py\":999:0 at callsite(\"/usr/local/lib/python3.7/dist-packages/tensorflow/python/eager/function.py\":3289:0 at callsite(\"/usr/local/lib/python3.7/dist-packages/tensorflow/python/eager/function.py\":3444:0 at \"/usr/local/lib/python3.7/dist-packages/tensorflow/python/eager/function.py\":3050:0))))))))))):  // no predecessors\n",
            "      %3 = addi %arg1, %arg2 : i32 loc(#loc6)\n",
            "      linalg.yield %3 : i32 loc(#loc6)\n",
            "    } -> tensor<i32> loc(#loc6)\n",
            "    return %2 : tensor<i32> loc(#loc0)\n",
            "  } loc(#loc0)\n",
            "} loc(#loc0)\n",
            "#loc1 = loc(callsite(\"Const@__inference_add_one_7\"(\"/usr/local/lib/python3.7/dist-packages/tensorflow/python/framework/constant_op.py\":287:0) at callsite(\"/usr/local/lib/python3.7/dist-packages/tensorflow/python/framework/constant_op.py\":265:0 at callsite(\"<ipython-input-3-8994eb87ace0>\":22:0 at callsite(\"/usr/local/lib/python3.7/dist-packages/tensorflow/python/framework/func_graph.py\":982:0 at callsite(\"/usr/local/lib/python3.7/dist-packages/tensorflow/python/eager/function.py\":3971:0 at callsite(\"/usr/local/lib/python3.7/dist-packages/tensorflow/python/eager/def_function.py\":672:0 at callsite(\"/usr/local/lib/python3.7/dist-packages/tensorflow/python/framework/func_graph.py\":999:0 at callsite(\"/usr/local/lib/python3.7/dist-packages/tensorflow/python/eager/function.py\":3289:0 at callsite(\"/usr/local/lib/python3.7/dist-packages/tensorflow/python/eager/function.py\":3444:0 at \"/usr/local/lib/python3.7/dist-packages/tensorflow/python/eager/function.py\":3050:0))))))))))\n",
            "#loc2 = loc(callsite(\"Add@__inference_add_one_7\"(\"/usr/local/lib/python3.7/dist-packages/tensorflow/python/framework/op_def_library.py\":750:0) at callsite(\"/usr/local/lib/python3.7/dist-packages/tensorflow/python/ops/gen_math_ops.py\":396:0 at callsite(\"<ipython-input-3-8994eb87ace0>\":22:0 at callsite(\"/usr/local/lib/python3.7/dist-packages/tensorflow/python/framework/func_graph.py\":982:0 at callsite(\"/usr/local/lib/python3.7/dist-packages/tensorflow/python/eager/function.py\":3971:0 at callsite(\"/usr/local/lib/python3.7/dist-packages/tensorflow/python/eager/def_function.py\":672:0 at callsite(\"/usr/local/lib/python3.7/dist-packages/tensorflow/python/framework/func_graph.py\":999:0 at callsite(\"/usr/local/lib/python3.7/dist-packages/tensorflow/python/eager/function.py\":3289:0 at callsite(\"/usr/local/lib/python3.7/dist-packages/tensorflow/python/eager/function.py\":3444:0 at \"/usr/local/lib/python3.7/dist-packages/tensorflow/python/eager/function.py\":3050:0))))))))))\n",
            "#loc3 = loc(callsite(\"range/start@__inference_iota_15\"(\"/usr/local/lib/python3.7/dist-packages/tensorflow/python/ops/math_ops.py\":1906:0) at callsite(\"/usr/local/lib/python3.7/dist-packages/tensorflow/python/util/dispatch.py\":206:0 at callsite(\"<ipython-input-3-8994eb87ace0>\":16:0 at callsite(\"/usr/local/lib/python3.7/dist-packages/tensorflow/python/framework/func_graph.py\":982:0 at callsite(\"/usr/local/lib/python3.7/dist-packages/tensorflow/python/eager/function.py\":3971:0 at callsite(\"/usr/local/lib/python3.7/dist-packages/tensorflow/python/eager/def_function.py\":672:0 at callsite(\"/usr/local/lib/python3.7/dist-packages/tensorflow/python/framework/func_graph.py\":999:0 at callsite(\"/usr/local/lib/python3.7/dist-packages/tensorflow/python/eager/function.py\":3289:0 at callsite(\"/usr/local/lib/python3.7/dist-packages/tensorflow/python/eager/function.py\":3444:0 at \"/usr/local/lib/python3.7/dist-packages/tensorflow/python/eager/function.py\":3050:0))))))))))\n",
            "#loc4 = loc(callsite(\"range/delta@__inference_iota_15\"(\"/usr/local/lib/python3.7/dist-packages/tensorflow/python/ops/math_ops.py\":1910:0) at callsite(\"/usr/local/lib/python3.7/dist-packages/tensorflow/python/util/dispatch.py\":206:0 at callsite(\"<ipython-input-3-8994eb87ace0>\":16:0 at callsite(\"/usr/local/lib/python3.7/dist-packages/tensorflow/python/framework/func_graph.py\":982:0 at callsite(\"/usr/local/lib/python3.7/dist-packages/tensorflow/python/eager/function.py\":3971:0 at callsite(\"/usr/local/lib/python3.7/dist-packages/tensorflow/python/eager/def_function.py\":672:0 at callsite(\"/usr/local/lib/python3.7/dist-packages/tensorflow/python/framework/func_graph.py\":999:0 at callsite(\"/usr/local/lib/python3.7/dist-packages/tensorflow/python/eager/function.py\":3289:0 at callsite(\"/usr/local/lib/python3.7/dist-packages/tensorflow/python/eager/function.py\":3444:0 at \"/usr/local/lib/python3.7/dist-packages/tensorflow/python/eager/function.py\":3050:0))))))))))\n",
            "#loc5 = loc(callsite(\"range@__inference_iota_15\"(\"/usr/local/lib/python3.7/dist-packages/tensorflow/python/ops/math_ops.py\":1929:0) at callsite(\"/usr/local/lib/python3.7/dist-packages/tensorflow/python/util/dispatch.py\":206:0 at callsite(\"<ipython-input-3-8994eb87ace0>\":16:0 at callsite(\"/usr/local/lib/python3.7/dist-packages/tensorflow/python/framework/func_graph.py\":982:0 at callsite(\"/usr/local/lib/python3.7/dist-packages/tensorflow/python/eager/function.py\":3971:0 at callsite(\"/usr/local/lib/python3.7/dist-packages/tensorflow/python/eager/def_function.py\":672:0 at callsite(\"/usr/local/lib/python3.7/dist-packages/tensorflow/python/framework/func_graph.py\":999:0 at callsite(\"/usr/local/lib/python3.7/dist-packages/tensorflow/python/eager/function.py\":3289:0 at callsite(\"/usr/local/lib/python3.7/dist-packages/tensorflow/python/eager/function.py\":3444:0 at \"/usr/local/lib/python3.7/dist-packages/tensorflow/python/eager/function.py\":3050:0))))))))))\n",
            "\n",
            "```\n",
            "\n",
            "Wrote MLIR to path '/tmp/iree/colab_artifacts/dynamic_shapes.mlir'\n"
          ],
          "name": "stdout"
        }
      ]
    },
    {
      "cell_type": "markdown",
      "metadata": {
        "id": "WCiRV6KRh3iA"
      },
      "source": [
        "## Test the imported program\n",
        "\n",
        "_Note: you can stop after each step and use intermediate outputs with other tools outside of Colab._\n",
        "\n",
        "_See the [README](https://github.com/google/iree/tree/main/iree/samples/dynamic_shapes#instructions) for more details and example command line instructions._\n",
        "\n",
        "* _The \"imported MLIR\" can be used by IREE's generic compiler tools_\n",
        "* _The \"flatbuffer blob\" can be saved and used by runtime applications_\n",
        "\n",
        "_The specific point at which you switch from Python to native tools will depend on your project._"
      ]
    },
    {
      "cell_type": "code",
      "metadata": {
        "id": "6TV6_Hdu6Xlf",
        "colab": {
          "base_uri": "https://localhost:8080/"
        },
        "outputId": "457343ad-2ba3-4d6d-a68a-835f7d054811"
      },
      "source": [
        "!python -m pip install iree-compiler-snapshot -f https://github.com/google/iree/releases"
      ],
      "execution_count": 6,
      "outputs": [
        {
          "output_type": "stream",
          "text": [
            "Looking in links: https://github.com/google/iree/releases\n",
            "Requirement already satisfied: iree-compiler-snapshot in /usr/local/lib/python3.7/dist-packages (20210608.328)\n"
          ],
          "name": "stdout"
        }
      ]
    },
    {
      "cell_type": "code",
      "metadata": {
        "id": "GF0dzDsbaP2w"
      },
      "source": [
        "#@title Compile the imported MLIR further into an IREE VM bytecode module\n",
        "\n",
        "from iree.compiler import compile_str\n",
        "\n",
        "# Note: we'll use the dylib-llvm-aot backend since it has the best support\n",
        "# for dynamic shapes among our compiler targets.\n",
        "\n",
        "flatbuffer_blob = compile_str(compiler_module, target_backends=[\"dylib-llvm-aot\"])\n",
        "\n",
        "# Note: the dylib-llvm-aot target produces platform-specific code. Since you\n",
        "# may need to recompile it yourself using the appropriate\n",
        "# `-iree-llvm-target-triple` flag, we skip saving it to disk and downloading it."
      ],
      "execution_count": 7,
      "outputs": []
    },
    {
      "cell_type": "code",
      "metadata": {
        "id": "G7g5eXYL6hWb"
      },
      "source": [
        "%%capture\n",
        "!python -m pip install iree-runtime-snapshot -f https://github.com/google/iree/releases"
      ],
      "execution_count": 8,
      "outputs": []
    },
    {
      "cell_type": "code",
      "metadata": {
        "colab": {
          "base_uri": "https://localhost:8080/"
        },
        "id": "h8cmF6nAfza0",
        "outputId": "bc34fa03-961a-4030-b685-91066d1e8d4a"
      },
      "source": [
        "#@title Test running the compiled VM module using IREE's runtime\n",
        "\n",
        "from iree import runtime as ireert\n",
        "\n",
        "vm_module = ireert.VmModule.from_flatbuffer(flatbuffer_blob)\n",
        "config = ireert.Config(\"dylib\")\n",
        "ctx = ireert.SystemContext(config=config)\n",
        "ctx.add_vm_module(vm_module)"
      ],
      "execution_count": 9,
      "outputs": [
        {
          "output_type": "stream",
          "text": [
            "Created IREE driver dylib: <iree.runtime.binding.HalDriver object at 0x7fe25cc09130>\n",
            "SystemContext driver=<iree.runtime.binding.HalDriver object at 0x7fe25cc09130>\n"
          ],
          "name": "stderr"
        }
      ]
    },
    {
      "cell_type": "code",
      "metadata": {
        "colab": {
          "base_uri": "https://localhost:8080/"
        },
        "id": "CQffg1iQatkb",
        "outputId": "652708e4-4d53-4f45-c034-dd4b141786eb"
      },
      "source": [
        "import numpy as np\n",
        "\n",
        "# Our @tf.functions are accessible by name on the module named 'module'\n",
        "dynamic_shapes_program = ctx.modules.module\n",
        "\n",
        "print(dynamic_shapes_program.reduce_sum(np.array([1, 10, 100], dtype=np.int32)))\n",
        "print(dynamic_shapes_program.iota(10))\n",
        "print(dynamic_shapes_program.add_one(np.array([1, 10, 100], dtype=np.int32)))"
      ],
      "execution_count": 10,
      "outputs": [
        {
          "output_type": "stream",
          "text": [
            "111\n",
            "[0 1 2 3 4 5 6 7 8 9]\n",
            "[  2  11 101]\n"
          ],
          "name": "stdout"
        }
      ]
    },
    {
      "cell_type": "markdown",
      "metadata": {
        "id": "wCvwX1IEokm6"
      },
      "source": [
        "## Download compilation artifacts"
      ]
    },
    {
      "cell_type": "code",
      "metadata": {
        "colab": {
          "base_uri": "https://localhost:8080/",
          "height": 68
        },
        "id": "bUaNUkS2ohRj",
        "outputId": "a5c63d3e-d1de-4d56-bde9-6da2bf5e7a83"
      },
      "source": [
        "ARTIFACTS_ZIP = \"/tmp/dynamic_shapes_colab_artifacts.zip\"\n",
        "\n",
        "print(f\"Zipping '{ARTIFACTS_DIR}' to '{ARTIFACTS_ZIP}' for download...\")\n",
        "!cd {ARTIFACTS_DIR} && zip -r {ARTIFACTS_ZIP} .\n",
        "\n",
        "# Note: you can also download files using Colab's file explorer\n",
        "from google.colab import files\n",
        "print(\"Downloading the artifacts zip file...\")\n",
        "files.download(ARTIFACTS_ZIP)"
      ],
      "execution_count": 11,
      "outputs": [
        {
          "output_type": "stream",
          "text": [
            "Zipping '/tmp/iree/colab_artifacts' to '/tmp/dynamic_shapes_colab_artifacts.zip' for download...\n",
            "  adding: dynamic_shapes.mlir (deflated 90%)\n",
            "Downloading the artifacts zip file...\n"
          ],
          "name": "stdout"
        },
        {
          "output_type": "display_data",
          "data": {
            "application/javascript": [
              "\n",
              "    async function download(id, filename, size) {\n",
              "      if (!google.colab.kernel.accessAllowed) {\n",
              "        return;\n",
              "      }\n",
              "      const div = document.createElement('div');\n",
              "      const label = document.createElement('label');\n",
              "      label.textContent = `Downloading \"${filename}\": `;\n",
              "      div.appendChild(label);\n",
              "      const progress = document.createElement('progress');\n",
              "      progress.max = size;\n",
              "      div.appendChild(progress);\n",
              "      document.body.appendChild(div);\n",
              "\n",
              "      const buffers = [];\n",
              "      let downloaded = 0;\n",
              "\n",
              "      const channel = await google.colab.kernel.comms.open(id);\n",
              "      // Send a message to notify the kernel that we're ready.\n",
              "      channel.send({})\n",
              "\n",
              "      for await (const message of channel.messages) {\n",
              "        // Send a message to notify the kernel that we're ready.\n",
              "        channel.send({})\n",
              "        if (message.buffers) {\n",
              "          for (const buffer of message.buffers) {\n",
              "            buffers.push(buffer);\n",
              "            downloaded += buffer.byteLength;\n",
              "            progress.value = downloaded;\n",
              "          }\n",
              "        }\n",
              "      }\n",
              "      const blob = new Blob(buffers, {type: 'application/binary'});\n",
              "      const a = document.createElement('a');\n",
              "      a.href = window.URL.createObjectURL(blob);\n",
              "      a.download = filename;\n",
              "      div.appendChild(a);\n",
              "      a.click();\n",
              "      div.remove();\n",
              "    }\n",
              "  "
            ],
            "text/plain": [
              "<IPython.core.display.Javascript object>"
            ]
          },
          "metadata": {
            "tags": []
          }
        },
        {
          "output_type": "display_data",
          "data": {
            "application/javascript": [
              "download(\"download_4cac3844-8109-4264-af93-11e6f5c12f9a\", \"dynamic_shapes_colab_artifacts.zip\", 1795)"
            ],
            "text/plain": [
              "<IPython.core.display.Javascript object>"
            ]
          },
          "metadata": {
            "tags": []
          }
        }
      ]
    }
  ]
}