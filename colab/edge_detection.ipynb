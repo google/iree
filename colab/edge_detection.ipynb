{
  "nbformat": 4,
  "nbformat_minor": 0,
  "metadata": {
    "colab": {
      "name": "edge_detection.ipynb",
      "provenance": [],
      "private_outputs": true,
      "collapsed_sections": []
    },
    "kernelspec": {
      "name": "python3",
      "display_name": "Python 3"
    }
  },
  "cells": [
    {
      "cell_type": "markdown",
      "metadata": {
        "id": "h5s6ncerSpc5",
        "colab_type": "text"
      },
      "source": [
        "# Image edge detection module\n",
        "\n",
        "## High level overview:\n",
        "\n",
        "1.  Define a `tf.Module` containing a `@tf.function` that performs edge detection\n",
        "2.  Save the `tf.Module` as a `SavedModel`\n",
        "3.  Use IREE's python bindings to load the `SavedModel` into MLIR in the `xla_hlo` dialect\n",
        "4.  Save the MLIR to a file (can stop here to use it from another application)\n",
        "5.  Compile the `xla_hlo` MLIR into a VM module for IREE to execute\n",
        "6.  Run the VM module through IREE's runtime to test the edge detection function"
      ]
    },
    {
      "cell_type": "code",
      "metadata": {
        "id": "s2bScbYkP6VZ",
        "colab_type": "code",
        "cellView": "both",
        "colab": {}
      },
      "source": [
        "#@title Imports and common setup\n",
        "\n",
        "import os\n",
        "from matplotlib import pyplot as plt\n",
        "import numpy as np\n",
        "import tensorflow as tf\n",
        "import pyiree\n",
        "from pyiree import binding\n",
        "\n",
        "SAVE_PATH = os.path.join(os.environ[\"HOME\"], \"saved_models\")\n",
        "os.makedirs(SAVE_PATH, exist_ok=True)"
      ],
      "execution_count": 0,
      "outputs": []
    },
    {
      "cell_type": "code",
      "metadata": {
        "id": "6YGqN2uqP_7P",
        "colab_type": "code",
        "colab": {}
      },
      "source": [
        "#@title Construct a module containing the edge detection function\n",
        "\n",
        "class EdgeDetectionModule(tf.Module):\n",
        "  @tf.function(input_signature=[tf.TensorSpec([1, 128, 128, 1], tf.float32)])\n",
        "  def edge_detect_sobel_operator(self, image):\n",
        "    # https://en.wikipedia.org/wiki/Sobel_operator\n",
        "    sobel_x = tf.constant([[-1.0, 0.0, 1.0],\n",
        "                           [-2.0, 0.0, 2.0],\n",
        "                           [-1.0, 0.0, 1.0]],\n",
        "                          dtype=tf.float32, shape=[3, 3, 1, 1])    \n",
        "    sobel_y = tf.constant([[ 1.0,  2.0,  1.0],\n",
        "                           [ 0.0,  0.0,  0.0],\n",
        "                           [-1.0, -2.0, -1.0]],\n",
        "                          dtype=tf.float32, shape=[3, 3, 1, 1])\n",
        "    gx = tf.nn.conv2d(image, sobel_x, 1, \"SAME\")\n",
        "    gy = tf.nn.conv2d(image, sobel_y, 1, \"SAME\")\n",
        "    return tf.math.sqrt(gx * gx + gy * gy)\n",
        "\n",
        "tf_module = EdgeDetectionModule()\n",
        "saved_model_path = os.path.join(SAVE_PATH, \"edge_detection.sm\")\n",
        "save_options = tf.saved_model.SaveOptions(save_debug_info=True)\n",
        "tf.saved_model.save(tf_module, saved_model_path, options=save_options)\n",
        "\n",
        "# Compile from SavedModel to MLIR xla_hlo, then save to a file.\n",
        "# \n",
        "# Do *not* further compile to a bytecode module for a particular backend.\n",
        "# \n",
        "# By stopping at xla_hlo in text format, we can more easily take advantage of\n",
        "# future compiler improvements within IREE and can use iree_bytecode_module to\n",
        "# compile and bundle the module into a sample application. For a production\n",
        "# application, we would probably want to freeze the version of IREE used and\n",
        "# compile as completely as possible ahead of time, then use some other scheme\n",
        "# to load the module into the application at runtime.\n",
        "mlir_module = pyiree.compiler.tf_load_saved_model(saved_model_path)\n",
        "print(\"Edge Detection MLIR:\", mlir_module.to_asm())\n",
        "\n",
        "edge_detection_mlir_path = os.path.join(SAVE_PATH, \"edge_detection.mlir\")\n",
        "with open(edge_detection_mlir_path, \"wt\") as output_file:\n",
        "  output_file.write(mlir_module.to_asm())\n",
        "print(\"Wrote MLIR to path '%s'\" % edge_detection_mlir_path)"
      ],
      "execution_count": 0,
      "outputs": []
    },
    {
      "cell_type": "code",
      "metadata": {
        "id": "Ytvb5Gx_EFJl",
        "colab_type": "code",
        "colab": {}
      },
      "source": [
        "#@title Prepare to test the edge detection module\n",
        "\n",
        "TARGET_BACKENDS = [\"vulkan-spirv\"]\n",
        "DRIVER_NAME = \"vulkan\"\n",
        "\n",
        "# Compile the MLIR module into a VM module for execution\n",
        "sequencer_blob = mlir_module.compile_to_sequencer_blob(\n",
        "    target_backends=TARGET_BACKENDS, print_mlir=True)\n",
        "vm_module = binding.vm.create_module_from_blob(sequencer_blob)\n",
        "\n",
        "# Create runtime context and register the VM module\n",
        "policy = binding.rt.Policy()\n",
        "instance = binding.rt.Instance(driver_name=DRIVER_NAME)\n",
        "rt_ctx = binding.rt.Context(instance=instance, policy=policy)\n",
        "rt_ctx.register_module(vm_module)"
      ],
      "execution_count": 0,
      "outputs": []
    },
    {
      "cell_type": "code",
      "metadata": {
        "id": "OUUXxol7wl-f",
        "colab_type": "code",
        "colab": {}
      },
      "source": [
        "#@title Load a test image of a [labrador](https://commons.wikimedia.org/wiki/File:YellowLabradorLooking_new.jpg)\n",
        "\n",
        "def load_image(path_to_image):\n",
        "  image = tf.io.read_file(path_to_image)\n",
        "  image = tf.image.decode_image(image, channels=1)\n",
        "  image = tf.image.convert_image_dtype(image, tf.float32)\n",
        "  image = tf.image.resize(image, (128, 128))\n",
        "  image = image[tf.newaxis, :]\n",
        "  return image\n",
        "\n",
        "content_path = tf.keras.utils.get_file(\n",
        "    'YellowLabradorLooking_new.jpg',\n",
        "    'https://storage.googleapis.com/download.tensorflow.org/example_images/YellowLabradorLooking_new.jpg')\n",
        "content_image = load_image(content_path)"
      ],
      "execution_count": 0,
      "outputs": []
    },
    {
      "cell_type": "code",
      "metadata": {
        "id": "qW32e6spORCo",
        "colab_type": "code",
        "colab": {}
      },
      "source": [
        "#@title Test the \"edge_detect_image\" function\n",
        "\n",
        "edge_detect_image_f = rt_ctx.resolve_function(\n",
        "    \"module.edge_detect_sobel_operator\")\n",
        "\n",
        "# Prepare inputs for the function\n",
        "print(\"Invoke function: '%s'\" % edge_detect_image_f.name)\n",
        "# arg0_numpy = content_image.numpy().reshape(1, 128, 128, 1).astype(np.float32)\n",
        "arg0_numpy = content_image.numpy()\n",
        "arg0 = rt_ctx.wrap_for_input(arg0_numpy)\n",
        "\n",
        "# Invoke the function and wait for completion\n",
        "invocation = rt_ctx.invoke(edge_detect_image_f, policy, [arg0])\n",
        "print(\"Invocation status:\", invocation.query_status())\n",
        "invocation.await_ready()\n",
        "\n",
        "# Get the result as a numpy array and plot the input and output images\n",
        "results = invocation.results\n",
        "result = results[0].map()\n",
        "result_array = np.array(result, copy=False, dtype=np.float32)\n",
        "\n",
        "print(\"Input:\")\n",
        "plt.imshow(arg0_numpy.reshape(128, 128), cmap=\"gray\")\n",
        "plt.show()\n",
        "print(\"Output:\")\n",
        "plt.imshow(result_array.reshape(128, 128), cmap=\"gray\")\n",
        "plt.show()"
      ],
      "execution_count": 0,
      "outputs": []
    }
  ]
}