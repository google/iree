{
  "nbformat": 4,
  "nbformat_minor": 0,
  "metadata": {
    "colab": {
      "name": "resnet.ipynb",
      "provenance": [],
      "collapsed_sections": [
        "RJdPhTjpZwYn"
      ]
    },
    "kernelspec": {
      "name": "python3",
      "display_name": "Python 3"
    }
  },
  "cells": [
    {
      "cell_type": "markdown",
      "metadata": {
        "id": "RJdPhTjpZwYn",
        "colab_type": "text"
      },
      "source": [
        "##### Copyright 2020 Google LLC.\n",
        "\n",
        "Licensed under the Apache License, Version 2.0 (the \"License\");"
      ]
    },
    {
      "cell_type": "code",
      "metadata": {
        "id": "kn6yY883Z1Oq",
        "colab_type": "code",
        "colab": {},
        "cellView": "form"
      },
      "source": [
        "#@title License header\n",
        "# Copyright 2020 Google LLC\n",
        "#\n",
        "# Licensed under the Apache License, Version 2.0 (the \"License\");\n",
        "# you may not use this file except in compliance with the License.\n",
        "# You may obtain a copy of the License at\n",
        "#\n",
        "#      https://www.apache.org/licenses/LICENSE-2.0\n",
        "#\n",
        "# Unless required by applicable law or agreed to in writing, software\n",
        "# distributed under the License is distributed on an \"AS IS\" BASIS,\n",
        "# WITHOUT WARRANTIES OR CONDITIONS OF ANY KIND, either express or implied.\n",
        "# See the License for the specific language governing permissions and\n",
        "# limitations under the License."
      ],
      "execution_count": 0,
      "outputs": []
    },
    {
      "cell_type": "markdown",
      "metadata": {
        "id": "h5s6ncerSpc5",
        "colab_type": "text"
      },
      "source": [
        "# ResNet\n",
        "\n",
        "[ResNet](https://arxiv.org/abs/1512.03385) is a deep neural network architecture for image recognition.\n",
        "\n",
        "This notebook\n",
        "\n",
        "* Constructs a [ResNet50](https://www.tensorflow.org/api_docs/python/tf/keras/applications/ResNet50) model using `tf.keras`, with weights pretrained using the[ImageNet](http://www.image-net.org/) database\n",
        "* Saves that model using `tf.saved_model` then compiles it with IREE\n",
        "* Tests TensorFlow and IREE execution of the model on a sample image"
      ]
    },
    {
      "cell_type": "code",
      "metadata": {
        "id": "s2bScbYkP6VZ",
        "colab_type": "code",
        "cellView": "both",
        "colab": {}
      },
      "source": [
        "#@title Imports and common setup\n",
        "\n",
        "import os\n",
        "import tensorflow as tf\n",
        "from pyiree.tf import compiler as ireec\n",
        "from pyiree import rt as ireert\n",
        "\n",
        "SAVE_PATH = os.path.join(os.environ[\"HOME\"], \"saved_models\")\n",
        "os.makedirs(SAVE_PATH, exist_ok=True)"
      ],
      "execution_count": 0,
      "outputs": []
    },
    {
      "cell_type": "code",
      "metadata": {
        "id": "9foDFPfEieIO",
        "colab_type": "code",
        "colab": {
          "base_uri": "https://localhost:8080/",
          "height": 68
        },
        "outputId": "1aa97d73-0914-4532-e16a-71a591582ed6"
      },
      "source": [
        "#@title Construct a pretrained ResNet model with ImageNet weights\n",
        "\n",
        "tf.keras.backend.set_learning_phase(False)\n",
        "\n",
        "# Static shape, including batch size (1).\n",
        "# Can be dynamic once dynamic shape support is ready.\n",
        "INPUT_SHAPE = [1, 224, 224, 3]\n",
        "\n",
        "tf_model = tf.keras.applications.resnet50.ResNet50(\n",
        "    weights=\"imagenet\", include_top=True, input_shape=tuple(INPUT_SHAPE[1:]))\n",
        "\n",
        "tf_module = tf.Module()\n",
        "tf_module.m = tf_model\n",
        "tf_module.predict = tf.function(\n",
        "    input_signature=[tf.TensorSpec(INPUT_SHAPE, tf.float32)])(tf_model.call)"
      ],
      "execution_count": 3,
      "outputs": [
        {
          "output_type": "stream",
          "text": [
            "WARNING:tensorflow:From <ipython-input-3-3c8b63a0281a>:3: set_learning_phase (from tensorflow.python.keras.backend) is deprecated and will be removed after 2020-10-11.\n",
            "Instructions for updating:\n",
            "Simply pass a True/False value to the `training` argument of the `__call__` method of your layer or model.\n"
          ],
          "name": "stdout"
        }
      ]
    },
    {
      "cell_type": "code",
      "metadata": {
        "id": "UvrDHh0FW8I1",
        "colab_type": "code",
        "outputId": "bf036a33-451d-46ae-89fa-8eac1f506d7c",
        "colab": {
          "base_uri": "https://localhost:8080/",
          "height": 85
        }
      },
      "source": [
        "#@title Export as a SavedModel.\n",
        "saved_model_path = os.path.join(SAVE_PATH, \"resnet.sm\")\n",
        "save_options = tf.saved_model.SaveOptions(save_debug_info=True)\n",
        "tf.saved_model.save(tf_module, saved_model_path, options=save_options)"
      ],
      "execution_count": 4,
      "outputs": [
        {
          "output_type": "stream",
          "text": [
            "WARNING:tensorflow:From c:\\users\\scott\\scoop\\apps\\python\\current\\lib\\site-packages\\tensorflow\\python\\training\\tracking\\tracking.py:105: Network.state_updates (from tensorflow.python.keras.engine.network) is deprecated and will be removed in a future version.\n",
            "Instructions for updating:\n",
            "This property should not be used in TensorFlow 2.0, as updates are applied automatically.\n",
            "INFO:tensorflow:Assets written to: C:\\Users\\Scott\\saved_models\\resnet.sm\\assets\n"
          ],
          "name": "stdout"
        }
      ]
    },
    {
      "cell_type": "code",
      "metadata": {
        "id": "6YGqN2uqP_7P",
        "colab_type": "code",
        "colab": {}
      },
      "source": [
        "#@title Compile the SavedModel to an IREE compiler module.\n",
        "\n",
        "TARGET_BACKENDS = (\"vmla\",)  # others: vulkan-spirv, llvm-ir\n",
        "DRIVER_NAME = \"vmla\"         # others: vulkan      , llvm\n",
        "\n",
        "compiler_context = ireec.Context()\n",
        "compiler_module = ireec.tf_compile_saved_model( \n",
        "    saved_model_dir=saved_model_path,\n",
        "    compiler_context=compiler_context,\n",
        "    exported_names=[\"predict\"],\n",
        "    target_backends=TARGET_BACKENDS)"
      ],
      "execution_count": 0,
      "outputs": []
    },
    {
      "cell_type": "code",
      "metadata": {
        "id": "nckd6xAaXWHm",
        "colab_type": "code",
        "outputId": "47fff6b3-fb07-45a8-ba81-2334dead3acc",
        "colab": {
          "base_uri": "https://localhost:8080/",
          "height": 51
        }
      },
      "source": [
        "#@title Register the compiler module with a runtime context.\n",
        "vm_module = ireert.VmModule.from_flatbuffer(compiler_module)\n",
        "rt_config = ireert.Config(DRIVER_NAME)\n",
        "rt_context = ireert.SystemContext(config=rt_config)\n",
        "rt_context.add_module(vm_module)"
      ],
      "execution_count": 6,
      "outputs": [
        {
          "output_type": "stream",
          "text": [
            "Created IREE driver vmla: <pyiree.rt.binding.HalDriver object at 0x000001F3922B2F30>\n",
            "SystemContext driver=<pyiree.rt.binding.HalDriver object at 0x000001F3922B2F30>\n"
          ],
          "name": "stderr"
        }
      ]
    },
    {
      "cell_type": "code",
      "metadata": {
        "id": "d0QjgzR-aiqj",
        "colab_type": "code",
        "colab": {}
      },
      "source": [
        "#@title Load a test image of a [labrador](https://commons.wikimedia.org/wiki/File:YellowLabradorLooking_new.jpg)\n",
        "\n",
        "def load_image(path_to_image):\n",
        "  image = tf.io.read_file(path_to_image)\n",
        "  image = tf.image.decode_image(image, channels=3)\n",
        "  image = tf.image.resize(image, (224, 224))\n",
        "  image = image[tf.newaxis, :]\n",
        "  return image\n",
        "\n",
        "content_path = tf.keras.utils.get_file(\n",
        "    'YellowLabradorLooking_new.jpg',\n",
        "    'https://storage.googleapis.com/download.tensorflow.org/example_images/YellowLabradorLooking_new.jpg')\n",
        "content_image = load_image(content_path)\n",
        "\n",
        "# Preprocess for the model.\n",
        "input_data = tf.keras.applications.resnet50.preprocess_input(content_image)\n",
        "\n",
        "def decode_result(result):\n",
        "  return tf.keras.applications.resnet50.decode_predictions(result, top=3)[0]"
      ],
      "execution_count": 0,
      "outputs": []
    },
    {
      "cell_type": "code",
      "metadata": {
        "id": "OKDPhohd1LWN",
        "colab_type": "code",
        "outputId": "120bb2a8-e818-44ec-f109-a03bad1b9bec",
        "colab": {
          "base_uri": "https://localhost:8080/",
          "height": 51
        }
      },
      "source": [
        "#@title Run TF model\n",
        "\n",
        "print(\"TF prediction:\")\n",
        "tf_result = tf_model.predict(input_data)\n",
        "print(decode_result(tf_result))"
      ],
      "execution_count": 8,
      "outputs": [
        {
          "output_type": "stream",
          "text": [
            "TF prediction:\n",
            "[('n02091244', 'Ibizan_hound', 0.12879111), ('n02099712', 'Labrador_retriever', 0.12632939), ('n02091831', 'Saluki', 0.09625213)]\n"
          ],
          "name": "stdout"
        }
      ]
    },
    {
      "cell_type": "code",
      "metadata": {
        "id": "QBaypvkMetjw",
        "colab_type": "code",
        "outputId": "91577dcd-b562-4c23-df87-dc8deadd6f15",
        "colab": {
          "base_uri": "https://localhost:8080/",
          "height": 51
        }
      },
      "source": [
        "#@title Run IREE model\n",
        "\n",
        "print(\"IREE prediction:\")\n",
        "iree_result = rt_context.modules.module.predict(input_data)\n",
        "print(decode_result(iree_result))"
      ],
      "execution_count": 9,
      "outputs": [
        {
          "output_type": "stream",
          "text": [
            "IREE prediction:\n",
            "[('n02091244', 'Ibizan_hound', 0.12879062), ('n02099712', 'Labrador_retriever', 0.12632969), ('n02091831', 'Saluki', 0.096252546)]\n"
          ],
          "name": "stdout"
        }
      ]
    }
  ]
}